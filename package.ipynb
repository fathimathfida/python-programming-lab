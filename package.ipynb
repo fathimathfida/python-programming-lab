{
 "cells": [
  {
   "cell_type": "code",
   "execution_count": null,
   "id": "f1e39f4f",
   "metadata": {},
   "outputs": [
    {
     "name": "stdout",
     "output_type": "stream",
     "text": [
      "1.rectangle\n",
      "2.circle\n",
      "3.cuboid\n",
      "4.sphere\n",
      "5.exit\n",
      "enter your choice:1\n",
      "enter length:2\n",
      "enter breadth:4\n",
      "area of rectangle: 8\n",
      "perimeter of rectangle: 12\n",
      "1.rectangle\n",
      "2.circle\n",
      "3.cuboid\n",
      "4.sphere\n",
      "5.exit\n",
      "enter your choice:2\n",
      "enter radius:4\n",
      "area of circle: 50.24\n",
      "perimeter of circle: 25.12\n",
      "1.rectangle\n",
      "2.circle\n",
      "3.cuboid\n",
      "4.sphere\n",
      "5.exit\n"
     ]
    }
   ],
   "source": [
    "from graphics import rect\n",
    "from graphics import circ\n",
    "from graphics.graphics3d import cuboid\n",
    "from graphics.graphics3d import sphere\n",
    "while(1):\n",
    "    print(\"1.rectangle\\n2.circle\\n3.cuboid\\n4.sphere\\n5.exit\")\n",
    "    ch=int(input(\"enter your choice:\"))\n",
    "    if ch==1:\n",
    "        l=int(input(\"enter length:\"))\n",
    "        b=int(input(\"enter breadth:\"))\n",
    "        rect.rectarea(l,b)\n",
    "        rect.rectperi(l,b)\n",
    "    elif ch==2:\n",
    "        r=int(input(\"enter radius:\"))\n",
    "        circ.circlearea(r)\n",
    "        circ.circleperi(r)\n",
    "    elif ch==3:\n",
    "        l=int(input(\"enter radius:\"))\n",
    "        b=int(input(\"enter breadth:\"))\n",
    "        h=int(input(\"enter height:\"))\n",
    "        cuboid.cuboidarea(l,b,h)\n",
    "        cuboid.cuboidperi(l,b,h)\n",
    "    elif ch==4:\n",
    "        r=int(input(\"enter radius:\"))\n",
    "        sphere.spherearea(r)\n",
    "        sphere.sphereperi(r)\n",
    "    else:\n",
    "        print(\"existing...\")\n",
    "        break"
   ]
  },
  {
   "cell_type": "code",
   "execution_count": null,
   "id": "e0a6f506",
   "metadata": {},
   "outputs": [],
   "source": []
  },
  {
   "cell_type": "code",
   "execution_count": null,
   "id": "7f6d2f16",
   "metadata": {},
   "outputs": [],
   "source": []
  },
  {
   "cell_type": "code",
   "execution_count": null,
   "id": "38083a53",
   "metadata": {},
   "outputs": [],
   "source": []
  }
 ],
 "metadata": {
  "kernelspec": {
   "display_name": "Python 3 (ipykernel)",
   "language": "python",
   "name": "python3"
  },
  "language_info": {
   "codemirror_mode": {
    "name": "ipython",
    "version": 3
   },
   "file_extension": ".py",
   "mimetype": "text/x-python",
   "name": "python",
   "nbconvert_exporter": "python",
   "pygments_lexer": "ipython3",
   "version": "3.10.6"
  }
 },
 "nbformat": 4,
 "nbformat_minor": 5
}
