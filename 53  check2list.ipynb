{
 "cells": [
  {
   "cell_type": "code",
   "execution_count": 1,
   "id": "bbe21d11",
   "metadata": {},
   "outputs": [
    {
     "name": "stdout",
     "output_type": "stream",
     "text": [
      "two lists have unequal length\n",
      "sum of two list are not equal\n",
      "5 occurs in both list\n"
     ]
    }
   ],
   "source": [
    "list1=['5','8,10','25','34','45']\n",
    "list2=['2','5','7','101','12','12']\n",
    "sum1=str(0)\n",
    "sum2=str(0)\n",
    "if len(list1)==len(list2):\n",
    "    print(\"both list are of equal length\")\n",
    "else:\n",
    "    print(\"two lists have unequal length\")\n",
    "for x in list1:\n",
    "    sum1=sum1+x\n",
    "for x in list2:\n",
    "    sum2=sum2+x\n",
    "if sum1 == sum2:\n",
    "    a = \"equal\"\n",
    "else:\n",
    "    a = \"not equal\"\n",
    "    print(\"sum of two list are\",a)\n",
    "    for x  in list1:\n",
    "        for y in list2:\n",
    "            if x == y:\n",
    "                print(y,\"occurs in both list\")\n"
   ]
  },
  {
   "cell_type": "code",
   "execution_count": null,
   "id": "7d8d1cf6",
   "metadata": {},
   "outputs": [],
   "source": []
  }
 ],
 "metadata": {
  "kernelspec": {
   "display_name": "Python 3 (ipykernel)",
   "language": "python",
   "name": "python3"
  },
  "language_info": {
   "codemirror_mode": {
    "name": "ipython",
    "version": 3
   },
   "file_extension": ".py",
   "mimetype": "text/x-python",
   "name": "python",
   "nbconvert_exporter": "python",
   "pygments_lexer": "ipython3",
   "version": "3.10.6"
  }
 },
 "nbformat": 4,
 "nbformat_minor": 5
}
