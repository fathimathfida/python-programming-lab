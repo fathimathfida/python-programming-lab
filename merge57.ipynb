{
 "cells": [
  {
   "cell_type": "code",
   "execution_count": 4,
   "id": "dfd52831",
   "metadata": {},
   "outputs": [
    {
     "name": "stdout",
     "output_type": "stream",
     "text": [
      "first: {1: 'apple', 2: 'banana', 3: 'orange'}\n",
      "second: {4: 'kiwi', 5: 'mango'}\n",
      "\n",
      "After concatenating:\n",
      "{1: 'apple', 2: 'banana', 3: 'orange', 4: 'kiwi', 5: 'mango'}\n"
     ]
    }
   ],
   "source": [
    "#merge two dictionaries\n",
    "first_dict={1:'apple',2:'banana',3:'orange'}\n",
    "second_dict={4:'kiwi',5:'mango'}\n",
    "print(\"first:\",first_dict)\n",
    "print(\"second:\",second_dict)\n",
    "first_dict.update(second_dict)\n",
    "print(\"\\nAfter concatenating:\")\n",
    "print(first_dict)"
   ]
  },
  {
   "cell_type": "code",
   "execution_count": null,
   "id": "2717855d",
   "metadata": {},
   "outputs": [],
   "source": []
  }
 ],
 "metadata": {
  "kernelspec": {
   "display_name": "Python 3 (ipykernel)",
   "language": "python",
   "name": "python3"
  },
  "language_info": {
   "codemirror_mode": {
    "name": "ipython",
    "version": 3
   },
   "file_extension": ".py",
   "mimetype": "text/x-python",
   "name": "python",
   "nbconvert_exporter": "python",
   "pygments_lexer": "ipython3",
   "version": "3.10.6"
  }
 },
 "nbformat": 4,
 "nbformat_minor": 5
}
