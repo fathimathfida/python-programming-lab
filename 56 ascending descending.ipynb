{
 "cells": [
  {
   "cell_type": "code",
   "execution_count": 2,
   "id": "50de461c",
   "metadata": {},
   "outputs": [
    {
     "name": "stdout",
     "output_type": "stream",
     "text": [
      "Ascending order is: [('apple', 13), ('lemon', 14), ('mango', 15), ('orange', 12)]\n",
      "Descending order is: [('orange', 12), ('mango', 15), ('lemon', 14), ('apple', 13)]\n",
      "dictionery {'orange': 12, 'mango': 15, 'lemon': 14, 'apple': 13}\n"
     ]
    }
   ],
   "source": [
    "#dictionery sort in ascending and descending order\n",
    "a={'orange':12,'apple':13,'mango':15,'lemon':14}\n",
    "l=list(a.items())\n",
    "l.sort()\n",
    "print('Ascending order is:',l)\n",
    "l=list(a.items())\n",
    "l.sort(reverse=True)\n",
    "print('Descending order is:',l)\n",
    "dict=dict(l)\n",
    "print(\"dictionery\",dict)"
   ]
  },
  {
   "cell_type": "code",
   "execution_count": null,
   "id": "b88ccb63",
   "metadata": {},
   "outputs": [],
   "source": []
  }
 ],
 "metadata": {
  "kernelspec": {
   "display_name": "Python 3 (ipykernel)",
   "language": "python",
   "name": "python3"
  },
  "language_info": {
   "codemirror_mode": {
    "name": "ipython",
    "version": 3
   },
   "file_extension": ".py",
   "mimetype": "text/x-python",
   "name": "python",
   "nbconvert_exporter": "python",
   "pygments_lexer": "ipython3",
   "version": "3.10.6"
  }
 },
 "nbformat": 4,
 "nbformat_minor": 5
}
