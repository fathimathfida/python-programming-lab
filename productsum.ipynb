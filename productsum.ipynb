{
 "cells": [
  {
   "cell_type": "code",
   "execution_count": 6,
   "id": "a281b484",
   "metadata": {},
   "outputs": [
    {
     "name": "stdout",
     "output_type": "stream",
     "text": [
      "enter first integer:40\n",
      "enter second integer:9\n",
      "360\n"
     ]
    }
   ],
   "source": [
    "a=int(input(\"enter first integer:\"))\n",
    "b=int(input(\"enter second integer:\"))\n",
    "c=a*b\n",
    "print(c)\n",
    "s=a+b\n",
    "if(c>1000):\n",
    "    print(\"sum is %d\"%s)"
   ]
  },
  {
   "cell_type": "code",
   "execution_count": null,
   "id": "901fd57d",
   "metadata": {},
   "outputs": [],
   "source": []
  },
  {
   "cell_type": "code",
   "execution_count": null,
   "id": "ce6aeb67",
   "metadata": {},
   "outputs": [],
   "source": []
  }
 ],
 "metadata": {
  "kernelspec": {
   "display_name": "Python 3",
   "language": "python",
   "name": "python3"
  },
  "language_info": {
   "codemirror_mode": {
    "name": "ipython",
    "version": 3
   },
   "file_extension": ".py",
   "mimetype": "text/x-python",
   "name": "python",
   "nbconvert_exporter": "python",
   "pygments_lexer": "ipython3",
   "version": "3.6.3"
  }
 },
 "nbformat": 4,
 "nbformat_minor": 5
}
