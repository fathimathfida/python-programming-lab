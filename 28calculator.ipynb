{
 "cells": [
  {
   "cell_type": "code",
   "execution_count": 2,
   "id": "af2f29aa",
   "metadata": {},
   "outputs": [
    {
     "name": "stdout",
     "output_type": "stream",
     "text": [
      "select the operations\n",
      "1.add\n",
      "2.substract\n",
      "3.multiply\n",
      "4.division\n",
      "Enter the choice:4\n",
      "Enter the 1nd number:12\n",
      "Enter the 2nd number:2\n",
      "division: 6.0\n"
     ]
    }
   ],
   "source": [
    "print(\"select the operations\")\n",
    "print(\"1.add\")\n",
    "print(\"2.substract\")\n",
    "print(\"3.multiply\")\n",
    "print(\"4.division\")\n",
    "choice=int(input(\"Enter the choice:\"))\n",
    "num1=int(input(\"Enter the 1nd number:\"))\n",
    "num2=int(input(\"Enter the 2nd number:\"))\n",
    "if(choice==1):\n",
    "    print(\"addition:\",num1+num2)\n",
    "elif(choice==2):\n",
    "    print(\"subtraction:\",num1-num2)\n",
    "elif(choice==3):\n",
    "    print(\"multiply:\",num1*num2)\n",
    "elif(choice==4):\n",
    "    print(\"division:\",num1/num2)\n",
    "else:\n",
    "    print(\"invalid\")\n",
    "    "
   ]
  },
  {
   "cell_type": "code",
   "execution_count": null,
   "id": "5fdef1ff",
   "metadata": {},
   "outputs": [],
   "source": []
  }
 ],
 "metadata": {
  "kernelspec": {
   "display_name": "Python 3",
   "language": "python",
   "name": "python3"
  },
  "language_info": {
   "codemirror_mode": {
    "name": "ipython",
    "version": 3
   },
   "file_extension": ".py",
   "mimetype": "text/x-python",
   "name": "python",
   "nbconvert_exporter": "python",
   "pygments_lexer": "ipython3",
   "version": "3.6.3"
  }
 },
 "nbformat": 4,
 "nbformat_minor": 5
}
