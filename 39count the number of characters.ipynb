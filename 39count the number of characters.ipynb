{
 "cells": [
  {
   "cell_type": "code",
   "execution_count": 11,
   "id": "24fe474b",
   "metadata": {},
   "outputs": [
    {
     "name": "stdout",
     "output_type": "stream",
     "text": [
      "enter the string:butter\n",
      "b = 1\n",
      "u = 1\n",
      "t = 2\n",
      "e = 1\n",
      "r = 1\n"
     ]
    }
   ],
   "source": [
    "#count the number of characters in a string\n",
    "s=(input(\"enter the string:\"))\n",
    "c={}\n",
    "for i in s:\n",
    "    if i in c:\n",
    "        c[i]=c[i]+1\n",
    "    else:\n",
    "        c[i]=1\n",
    "for keys,value in c.items():\n",
    "     print(keys,\"=\",value)"
   ]
  },
  {
   "cell_type": "code",
   "execution_count": null,
   "id": "e060ec32",
   "metadata": {},
   "outputs": [],
   "source": []
  },
  {
   "cell_type": "code",
   "execution_count": null,
   "id": "b6020eb0",
   "metadata": {},
   "outputs": [],
   "source": []
  }
 ],
 "metadata": {
  "kernelspec": {
   "display_name": "Python 3",
   "language": "python",
   "name": "python3"
  },
  "language_info": {
   "codemirror_mode": {
    "name": "ipython",
    "version": 3
   },
   "file_extension": ".py",
   "mimetype": "text/x-python",
   "name": "python",
   "nbconvert_exporter": "python",
   "pygments_lexer": "ipython3",
   "version": "3.6.3"
  }
 },
 "nbformat": 4,
 "nbformat_minor": 5
}
