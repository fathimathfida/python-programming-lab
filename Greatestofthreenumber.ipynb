{
 "cells": [
  {
   "cell_type": "code",
   "execution_count": 1,
   "id": "ef8bb85a",
   "metadata": {},
   "outputs": [
    {
     "name": "stdout",
     "output_type": "stream",
     "text": [
      "enter a number:23\n",
      "enter a number:11\n",
      "enter a number:5\n",
      "greatest of three number is: 23\n"
     ]
    }
   ],
   "source": [
    "import math\n",
    "a=int(input(\"enter a number:\"))\n",
    "b=int(input(\"enter a number:\"))\n",
    "c=int(input(\"enter a number:\"))\n",
    "d=max(a,b,c)\n",
    "print(\"greatest of three number is:\",d)"
   ]
  },
  {
   "cell_type": "code",
   "execution_count": null,
   "id": "ecbe5050",
   "metadata": {},
   "outputs": [],
   "source": []
  }
 ],
 "metadata": {
  "kernelspec": {
   "display_name": "Python 3",
   "language": "python",
   "name": "python3"
  },
  "language_info": {
   "codemirror_mode": {
    "name": "ipython",
    "version": 3
   },
   "file_extension": ".py",
   "mimetype": "text/x-python",
   "name": "python",
   "nbconvert_exporter": "python",
   "pygments_lexer": "ipython3",
   "version": "3.6.3"
  }
 },
 "nbformat": 4,
 "nbformat_minor": 5
}
