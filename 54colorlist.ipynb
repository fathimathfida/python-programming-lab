{
 "cells": [
  {
   "cell_type": "code",
   "execution_count": 4,
   "id": "d4630bb6",
   "metadata": {},
   "outputs": [
    {
     "name": "stdout",
     "output_type": "stream",
     "text": [
      "orginal set of colors:\n",
      "{'purple', 'yellow', 'green'}\n",
      "{'red', 'green'}\n",
      "\n",
      "colors in color_list1 not contained in color_list2:\n",
      "{'purple', 'yellow'}\n"
     ]
    }
   ],
   "source": [
    "color_list1 = set([\"yellow\",\"green\",\"purple\"])\n",
    "color_list2 = set([\"red\",\"green\"])\n",
    "print(\"orginal set of colors:\")\n",
    "print(color_list1)\n",
    "print(color_list2)\n",
    "print(\"\\ncolors in color_list1 not contained in color_list2:\")\n",
    "print(color_list1.difference(color_list2))"
   ]
  },
  {
   "cell_type": "code",
   "execution_count": null,
   "id": "204370ce",
   "metadata": {},
   "outputs": [],
   "source": []
  },
  {
   "cell_type": "code",
   "execution_count": null,
   "id": "649af86a",
   "metadata": {},
   "outputs": [],
   "source": []
  }
 ],
 "metadata": {
  "kernelspec": {
   "display_name": "Python 3 (ipykernel)",
   "language": "python",
   "name": "python3"
  },
  "language_info": {
   "codemirror_mode": {
    "name": "ipython",
    "version": 3
   },
   "file_extension": ".py",
   "mimetype": "text/x-python",
   "name": "python",
   "nbconvert_exporter": "python",
   "pygments_lexer": "ipython3",
   "version": "3.10.6"
  }
 },
 "nbformat": 4,
 "nbformat_minor": 5
}
