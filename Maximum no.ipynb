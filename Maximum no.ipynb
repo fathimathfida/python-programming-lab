{
 "cells": [
  {
   "cell_type": "code",
   "execution_count": 2,
   "id": "dca9e288",
   "metadata": {},
   "outputs": [
    {
     "name": "stdout",
     "output_type": "stream",
     "text": [
      "enter the 1st numbrer:5\n",
      "enter the 2nd number:9\n",
      "enter the 3rd number:7\n",
      "maximum 9\n"
     ]
    }
   ],
   "source": [
    "import math\n",
    "a=int(input(\"enter the 1st numbrer:\"))\n",
    "b=int(input(\"enter the 2nd number:\"))\n",
    "c=int(input(\"enter the 3rd number:\"))\n",
    "d=max(a,b,c)\n",
    "print('maximum',d)"
   ]
  },
  {
   "cell_type": "code",
   "execution_count": null,
   "id": "1a83e206",
   "metadata": {},
   "outputs": [],
   "source": []
  }
 ],
 "metadata": {
  "kernelspec": {
   "display_name": "Python 3",
   "language": "python",
   "name": "python3"
  },
  "language_info": {
   "codemirror_mode": {
    "name": "ipython",
    "version": 3
   },
   "file_extension": ".py",
   "mimetype": "text/x-python",
   "name": "python",
   "nbconvert_exporter": "python",
   "pygments_lexer": "ipython3",
   "version": "3.6.3"
  }
 },
 "nbformat": 4,
 "nbformat_minor": 5
}
