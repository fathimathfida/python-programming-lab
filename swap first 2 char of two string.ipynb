{
 "cells": [
  {
   "cell_type": "code",
   "execution_count": 4,
   "id": "5bf12d7a",
   "metadata": {},
   "outputs": [
    {
     "name": "stdout",
     "output_type": "stream",
     "text": [
      "enter first string:sky \n",
      "enter second string:bue\n",
      "result is :buy  ske\n"
     ]
    }
   ],
   "source": [
    "s1=input(\"enter first string:\")\n",
    "s2=input(\"enter second string:\")\n",
    "swap=s2[0:2]+s1[2:]+\" \"+s1[0:2]+s2[2:]\n",
    "print(\"result is :%s\"%swap)"
   ]
  },
  {
   "cell_type": "code",
   "execution_count": null,
   "id": "a87d4adf",
   "metadata": {},
   "outputs": [],
   "source": []
  },
  {
   "cell_type": "code",
   "execution_count": null,
   "id": "aaa1307d",
   "metadata": {},
   "outputs": [],
   "source": []
  }
 ],
 "metadata": {
  "kernelspec": {
   "display_name": "Python 3",
   "language": "python",
   "name": "python3"
  },
  "language_info": {
   "codemirror_mode": {
    "name": "ipython",
    "version": 3
   },
   "file_extension": ".py",
   "mimetype": "text/x-python",
   "name": "python",
   "nbconvert_exporter": "python",
   "pygments_lexer": "ipython3",
   "version": "3.6.3"
  }
 },
 "nbformat": 4,
 "nbformat_minor": 5
}
