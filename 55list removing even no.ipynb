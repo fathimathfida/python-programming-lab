{
 "cells": [
  {
   "cell_type": "code",
   "execution_count": 6,
   "id": "6bc6c797",
   "metadata": {},
   "outputs": [
    {
     "name": "stdout",
     "output_type": "stream",
     "text": [
      "list items = [10, 27, 37, 44, 51, 53, 82]\n",
      "list items after removing items =  [27, 37, 51, 53]\n"
     ]
    }
   ],
   "source": [
    "#removing list of integers\n",
    "evenlist=[10,27,37,44,51,53,82]\n",
    "print(\"list items =\",evenlist)\n",
    "for ev in evenlist:\n",
    "    if(ev % 2 ==0):\n",
    "        evenlist.remove(ev)\n",
    "print(\"list items after removing items = \",evenlist)"
   ]
  },
  {
   "cell_type": "code",
   "execution_count": null,
   "id": "d8c0fa03",
   "metadata": {},
   "outputs": [],
   "source": []
  }
 ],
 "metadata": {
  "kernelspec": {
   "display_name": "Python 3 (ipykernel)",
   "language": "python",
   "name": "python3"
  },
  "language_info": {
   "codemirror_mode": {
    "name": "ipython",
    "version": 3
   },
   "file_extension": ".py",
   "mimetype": "text/x-python",
   "name": "python",
   "nbconvert_exporter": "python",
   "pygments_lexer": "ipython3",
   "version": "3.10.6"
  }
 },
 "nbformat": 4,
 "nbformat_minor": 5
}
