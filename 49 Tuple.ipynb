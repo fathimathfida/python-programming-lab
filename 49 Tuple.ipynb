{
 "cells": [
  {
   "cell_type": "code",
   "execution_count": 3,
   "id": "5ec0a4bd",
   "metadata": {},
   "outputs": [
    {
     "name": "stdout",
     "output_type": "stream",
     "text": [
      "enter numbers seperated by comma:3,4,5\n",
      "average value of the numbers in a given tuple 4.0\n"
     ]
    }
   ],
   "source": [
    "t=tuple(input(\"enter numbers seperated by comma:\").split(\",\"))\n",
    "l=len(t)\n",
    "c=0\n",
    "for i in range(l):\n",
    "    c=int(t[i])+c\n",
    "    avg=c/l\n",
    "print(\"average value of the numbers in a given tuple\",avg)"
   ]
  },
  {
   "cell_type": "code",
   "execution_count": null,
   "id": "d903dfb7",
   "metadata": {},
   "outputs": [],
   "source": []
  },
  {
   "cell_type": "code",
   "execution_count": null,
   "id": "0daef5b2",
   "metadata": {},
   "outputs": [],
   "source": []
  }
 ],
 "metadata": {
  "kernelspec": {
   "display_name": "Python 3 (ipykernel)",
   "language": "python",
   "name": "python3"
  },
  "language_info": {
   "codemirror_mode": {
    "name": "ipython",
    "version": 3
   },
   "file_extension": ".py",
   "mimetype": "text/x-python",
   "name": "python",
   "nbconvert_exporter": "python",
   "pygments_lexer": "ipython3",
   "version": "3.10.6"
  }
 },
 "nbformat": 4,
 "nbformat_minor": 5
}
