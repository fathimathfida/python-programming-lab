{
 "cells": [
  {
   "cell_type": "code",
   "execution_count": 5,
   "id": "50e1a609",
   "metadata": {},
   "outputs": [
    {
     "name": "stdout",
     "output_type": "stream",
     "text": [
      "enter anumber3\n",
      "3 + 33 + 333 = 369\n"
     ]
    }
   ],
   "source": [
    "n=int(input(\"enter anumber\"))\n",
    "nn=(n*10)+n\n",
    "nnn=(nn*10)+n\n",
    "sum=n+nn+nnn\n",
    "print(n,\"+\",nn,\"+\",nnn,\"=\",sum)"
   ]
  },
  {
   "cell_type": "code",
   "execution_count": null,
   "id": "1356d843",
   "metadata": {},
   "outputs": [],
   "source": []
  },
  {
   "cell_type": "code",
   "execution_count": null,
   "id": "417fc906",
   "metadata": {},
   "outputs": [],
   "source": []
  }
 ],
 "metadata": {
  "kernelspec": {
   "display_name": "Python 3",
   "language": "python",
   "name": "python3"
  },
  "language_info": {
   "codemirror_mode": {
    "name": "ipython",
    "version": 3
   },
   "file_extension": ".py",
   "mimetype": "text/x-python",
   "name": "python",
   "nbconvert_exporter": "python",
   "pygments_lexer": "ipython3",
   "version": "3.6.3"
  }
 },
 "nbformat": 4,
 "nbformat_minor": 5
}
