{
 "cells": [
  {
   "cell_type": "code",
   "execution_count": null,
   "id": "82d983b5",
   "metadata": {},
   "outputs": [],
   "source": []
  },
  {
   "cell_type": "code",
   "execution_count": 1,
   "id": "28c44a0f",
   "metadata": {},
   "outputs": [
    {
     "name": "stdout",
     "output_type": "stream",
     "text": [
      "Enter length:10\n",
      "Enter breadth:20\n",
      "it is rectangle:\n"
     ]
    }
   ],
   "source": [
    "a=int(input(\"Enter length:\"))\n",
    "b=int(input(\"Enter breadth:\"))\n",
    "if(a==b):\n",
    "    print(\"it is square\")\n",
    "elif(a!=b):\n",
    "    print(\"it is rectangle\")"
   ]
  },
  {
   "cell_type": "code",
   "execution_count": null,
   "id": "ce8f59dd",
   "metadata": {},
   "outputs": [],
   "source": []
  }
 ],
 "metadata": {
  "kernelspec": {
   "display_name": "Python 3",
   "language": "python",
   "name": "python3"
  },
  "language_info": {
   "codemirror_mode": {
    "name": "ipython",
    "version": 3
   },
   "file_extension": ".py",
   "mimetype": "text/x-python",
   "name": "python",
   "nbconvert_exporter": "python",
   "pygments_lexer": "ipython3",
   "version": "3.6.3"
  }
 },
 "nbformat": 4,
 "nbformat_minor": 5
}
