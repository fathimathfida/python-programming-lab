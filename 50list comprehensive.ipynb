{
 "cells": [
  {
   "cell_type": "code",
   "execution_count": 2,
   "id": "42619ae8",
   "metadata": {},
   "outputs": [
    {
     "name": "stdout",
     "output_type": "stream",
     "text": [
      "enter a numbers with comma-separated:10,7,5,-3,-11,-4\n",
      "postive integers of the list are: [10, 7, 5]\n",
      "square of numbers in list [100, 49, 25, 9, 121, 16]\n",
      "Enter a word:flower\n",
      "vowels in flower are ['o', 'e']\n",
      "ordinal values of ['f', 'l', 'o', 'w', 'e', 'r'] are:  [102, 108, 111, 119, 101, 114]\n"
     ]
    }
   ],
   "source": [
    "#list of postive numbers\n",
    "num=input('enter a numbers with comma-separated:').split(',')\n",
    "new=map(int,num)\n",
    "newl=[x for x in new if x>0]\n",
    "print('postive integers of the list are:',newl)\n",
    "\n",
    "#square of n numbers\n",
    "new2=map(int,num)\n",
    "sqlist=[x**2 for x in new2]\n",
    "print('square of numbers in list',sqlist)\n",
    "\n",
    "#list of vowels\n",
    "vw=input('Enter a word:')\n",
    "vw1=[x for x in vw]\n",
    "vowel=['a','e','i','o','u','A','E','O','U']\n",
    "vw2=[x for x in vw1 if x in vowel]\n",
    "print('vowels in',vw,'are',vw2)\n",
    "            \n",
    "#ordinal values\n",
    "ordinal=[ord(x) for x in vw1]\n",
    "print('ordinal values of',vw1,'are: ',ordinal)"
   ]
  },
  {
   "cell_type": "code",
   "execution_count": null,
   "id": "b91e48e7",
   "metadata": {},
   "outputs": [],
   "source": []
  },
  {
   "cell_type": "code",
   "execution_count": null,
   "id": "43d1dff3",
   "metadata": {},
   "outputs": [],
   "source": []
  },
  {
   "cell_type": "code",
   "execution_count": null,
   "id": "9f37b330",
   "metadata": {},
   "outputs": [],
   "source": []
  },
  {
   "cell_type": "code",
   "execution_count": null,
   "id": "f7afb504",
   "metadata": {},
   "outputs": [],
   "source": []
  }
 ],
 "metadata": {
  "kernelspec": {
   "display_name": "Python 3 (ipykernel)",
   "language": "python",
   "name": "python3"
  },
  "language_info": {
   "codemirror_mode": {
    "name": "ipython",
    "version": 3
   },
   "file_extension": ".py",
   "mimetype": "text/x-python",
   "name": "python",
   "nbconvert_exporter": "python",
   "pygments_lexer": "ipython3",
   "version": "3.10.6"
  }
 },
 "nbformat": 4,
 "nbformat_minor": 5
}
