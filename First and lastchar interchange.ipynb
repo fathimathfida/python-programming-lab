{
 "cells": [
  {
   "cell_type": "code",
   "execution_count": 1,
   "id": "85b6842c",
   "metadata": {},
   "outputs": [
    {
     "name": "stdout",
     "output_type": "stream",
     "text": [
      "enter a stringwelcome\n",
      "eelcomw\n"
     ]
    }
   ],
   "source": [
    "s=input(\"enter a string\")\n",
    "a=s[-1]\n",
    "b=s[1:-1]\n",
    "c=s[0]\n",
    "s1=a+b+c\n",
    "print(s1)"
   ]
  },
  {
   "cell_type": "code",
   "execution_count": null,
   "id": "e12f02b3",
   "metadata": {},
   "outputs": [],
   "source": []
  }
 ],
 "metadata": {
  "kernelspec": {
   "display_name": "Python 3",
   "language": "python",
   "name": "python3"
  },
  "language_info": {
   "codemirror_mode": {
    "name": "ipython",
    "version": 3
   },
   "file_extension": ".py",
   "mimetype": "text/x-python",
   "name": "python",
   "nbconvert_exporter": "python",
   "pygments_lexer": "ipython3",
   "version": "3.6.3"
  }
 },
 "nbformat": 4,
 "nbformat_minor": 5
}
