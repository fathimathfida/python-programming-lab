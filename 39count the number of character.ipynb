{
 "cells": [
  {
   "cell_type": "code",
   "execution_count": 4,
   "id": "ee874597",
   "metadata": {},
   "outputs": [
    {
     "name": "stdout",
     "output_type": "stream",
     "text": [
      "enter a string:buterfly\n",
      "b is repeated 1 time(s)\n",
      "u is repeated 1 time(s)\n",
      "t is repeated 1 time(s)\n",
      "e is repeated 1 time(s)\n",
      "r is repeated 1 time(s)\n",
      "f is repeated 1 time(s)\n",
      "l is repeated 1 time(s)\n",
      "y is repeated 1 time(s)\n"
     ]
    }
   ],
   "source": [
    "#count the number of characters\n",
    "s=input(\"enter a string:\")\n",
    "c={}\n",
    "for i in s:\n",
    "    if i in c:\n",
    "        c[i]=c[i]+1\n",
    "    else:\n",
    "        c[i]=1\n",
    "for keys,value in c.items():\n",
    "    print(keys,'is repeated',value,'time(s)')"
   ]
  },
  {
   "cell_type": "code",
   "execution_count": null,
   "id": "1871e783",
   "metadata": {},
   "outputs": [],
   "source": []
  },
  {
   "cell_type": "code",
   "execution_count": null,
   "id": "54c8d5c3",
   "metadata": {},
   "outputs": [],
   "source": []
  },
  {
   "cell_type": "code",
   "execution_count": null,
   "id": "2f306724",
   "metadata": {},
   "outputs": [],
   "source": []
  }
 ],
 "metadata": {
  "kernelspec": {
   "display_name": "Python 3 (ipykernel)",
   "language": "python",
   "name": "python3"
  },
  "language_info": {
   "codemirror_mode": {
    "name": "ipython",
    "version": 3
   },
   "file_extension": ".py",
   "mimetype": "text/x-python",
   "name": "python",
   "nbconvert_exporter": "python",
   "pygments_lexer": "ipython3",
   "version": "3.10.6"
  }
 },
 "nbformat": 4,
 "nbformat_minor": 5
}
