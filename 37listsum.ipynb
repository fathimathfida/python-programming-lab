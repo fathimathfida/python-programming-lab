{
 "cells": [
  {
   "cell_type": "code",
   "execution_count": 2,
   "id": "9689f2b6",
   "metadata": {},
   "outputs": [
    {
     "name": "stdout",
     "output_type": "stream",
     "text": [
      "how many numbers:3\n",
      "enter the numbers:4\n",
      "enter the numbers:5\n",
      "enter the numbers:7\n",
      "sum of elements in the list: 16\n"
     ]
    }
   ],
   "source": [
    "list=[]\n",
    "n=int(input(\"how many numbers:\"))\n",
    "for i in range(n):\n",
    "    numbers=int(input(\"enter the numbers:\"))\n",
    "    list.append(numbers)\n",
    "print(\"sum of elements in the list:\",sum(list))"
   ]
  },
  {
   "cell_type": "code",
   "execution_count": null,
   "id": "17746305",
   "metadata": {},
   "outputs": [],
   "source": []
  },
  {
   "cell_type": "code",
   "execution_count": null,
   "id": "f39a97b7",
   "metadata": {},
   "outputs": [],
   "source": []
  }
 ],
 "metadata": {
  "kernelspec": {
   "display_name": "Python 3",
   "language": "python",
   "name": "python3"
  },
  "language_info": {
   "codemirror_mode": {
    "name": "ipython",
    "version": 3
   },
   "file_extension": ".py",
   "mimetype": "text/x-python",
   "name": "python",
   "nbconvert_exporter": "python",
   "pygments_lexer": "ipython3",
   "version": "3.6.3"
  }
 },
 "nbformat": 4,
 "nbformat_minor": 5
}
