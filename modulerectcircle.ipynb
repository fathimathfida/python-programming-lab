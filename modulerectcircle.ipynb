{
 "cells": [
  {
   "cell_type": "code",
   "execution_count": null,
   "id": "e4490e46",
   "metadata": {},
   "outputs": [
    {
     "name": "stdout",
     "output_type": "stream",
     "text": [
      "1.rectangle\n",
      "2.circle\n",
      "3.exit\n",
      "enter your choice:1\n",
      "enter length2\n",
      "enter breadth3\n",
      "area of rectangle:\n",
      "perimeter of rectangle: 10\n",
      "1.rectangle\n",
      "2.circle\n",
      "3.exit\n",
      "enter your choice:1\n",
      "enter length2\n",
      "enter breadth3\n",
      "area of rectangle:\n",
      "perimeter of rectangle: 10\n",
      "1.rectangle\n",
      "2.circle\n",
      "3.exit\n",
      "enter your choice:2\n",
      "enter radius4\n",
      "area of circle: 50.24\n",
      "perimeter of circle: 25.12\n",
      "1.rectangle\n",
      "2.circle\n",
      "3.exit\n"
     ]
    }
   ],
   "source": [
    "import rect\n",
    "import circle\n",
    "while(1):\n",
    "    print(\"1.rectangle\\n2.circle\\n3.exit\")\n",
    "    ch=int(input(\"enter your choice:\"))\n",
    "    if ch==1:\n",
    "        l=int(input(\"enter length\"))\n",
    "        b=int(input(\"enter breadth\"))\n",
    "        rect.rectarea(l,b)\n",
    "        rect.rectperi(l,b)\n",
    "    elif ch==2:\n",
    "        r=int(input(\"enter radius\"))\n",
    "        circle.circlearea(r)\n",
    "        circle.circleperi(r)\n",
    "    else:\n",
    "        print(\"existing...\")\n",
    "        break"
   ]
  },
  {
   "cell_type": "code",
   "execution_count": null,
   "id": "89d30de2",
   "metadata": {},
   "outputs": [],
   "source": []
  }
 ],
 "metadata": {
  "kernelspec": {
   "display_name": "Python 3 (ipykernel)",
   "language": "python",
   "name": "python3"
  },
  "language_info": {
   "codemirror_mode": {
    "name": "ipython",
    "version": 3
   },
   "file_extension": ".py",
   "mimetype": "text/x-python",
   "name": "python",
   "nbconvert_exporter": "python",
   "pygments_lexer": "ipython3",
   "version": "3.10.6"
  }
 },
 "nbformat": 4,
 "nbformat_minor": 5
}
