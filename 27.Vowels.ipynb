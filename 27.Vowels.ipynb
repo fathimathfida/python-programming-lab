{
 "cells": [
  {
   "cell_type": "code",
   "execution_count": 5,
   "id": "9b2b130d",
   "metadata": {},
   "outputs": [
    {
     "name": "stdout",
     "output_type": "stream",
     "text": [
      "Enter the character:d\n",
      "d is not vowel\n"
     ]
    }
   ],
   "source": [
    "ch=input(\"Enter the character:\")\n",
    "if(ch=='A' or ch=='a' or ch=='E' or ch=='e' or ch=='I' or ch=='i' or ch=='O' or ch=='o'or ch=='U' or ch=='u'):\n",
    "      print(\"%s is a vowel\"%ch)\n",
    "else:\n",
    "\n",
    "      print(\"%s is not vowel\"%ch)\n",
    "    \n",
    "    "
   ]
  },
  {
   "cell_type": "code",
   "execution_count": null,
   "id": "d3df7e1c",
   "metadata": {},
   "outputs": [],
   "source": []
  },
  {
   "cell_type": "code",
   "execution_count": null,
   "id": "d0fa465a",
   "metadata": {},
   "outputs": [],
   "source": []
  }
 ],
 "metadata": {
  "kernelspec": {
   "display_name": "Python 3",
   "language": "python",
   "name": "python3"
  },
  "language_info": {
   "codemirror_mode": {
    "name": "ipython",
    "version": 3
   },
   "file_extension": ".py",
   "mimetype": "text/x-python",
   "name": "python",
   "nbconvert_exporter": "python",
   "pygments_lexer": "ipython3",
   "version": "3.6.3"
  }
 },
 "nbformat": 4,
 "nbformat_minor": 5
}
